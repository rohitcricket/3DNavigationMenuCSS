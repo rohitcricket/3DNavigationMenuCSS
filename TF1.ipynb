{
  "nbformat": 4,
  "nbformat_minor": 0,
  "metadata": {
    "colab": {
      "name": "TF1.ipynb",
      "provenance": [],
      "include_colab_link": true
    },
    "kernelspec": {
      "name": "python3",
      "display_name": "Python 3"
    }
  },
  "cells": [
    {
      "cell_type": "markdown",
      "metadata": {
        "id": "view-in-github",
        "colab_type": "text"
      },
      "source": [
        "<a href=\"https://colab.research.google.com/github/rohitcricket/3DNavigationMenuCSS/blob/master/TF1.ipynb\" target=\"_parent\"><img src=\"https://colab.research.google.com/assets/colab-badge.svg\" alt=\"Open In Colab\"/></a>"
      ]
    },
    {
      "cell_type": "code",
      "metadata": {
        "id": "Yz0rh2sLbdEW",
        "colab_type": "code",
        "colab": {
          "base_uri": "https://localhost:8080/",
          "height": 582
        },
        "outputId": "0a7a70c9-1f19-44c0-bb1a-9e0e7e13206e"
      },
      "source": [
        "!pip install tensorflow-gpu==2.0.0.alpha0"
      ],
      "execution_count": 19,
      "outputs": [
        {
          "output_type": "stream",
          "text": [
            "Collecting tensorflow-gpu==2.0.0.alpha0\n",
            "\u001b[?25l  Downloading https://files.pythonhosted.org/packages/1a/66/32cffad095253219d53f6b6c2a436637bbe45ac4e7be0244557210dc3918/tensorflow_gpu-2.0.0a0-cp36-cp36m-manylinux1_x86_64.whl (332.1MB)\n",
            "\u001b[K     |████████████████████████████████| 332.1MB 73kB/s \n",
            "\u001b[?25hRequirement already satisfied: astor>=0.6.0 in /usr/local/lib/python3.6/dist-packages (from tensorflow-gpu==2.0.0.alpha0) (0.8.0)\n",
            "Requirement already satisfied: google-pasta>=0.1.2 in /usr/local/lib/python3.6/dist-packages (from tensorflow-gpu==2.0.0.alpha0) (0.1.7)\n",
            "Collecting tb-nightly<1.14.0a20190302,>=1.14.0a20190301 (from tensorflow-gpu==2.0.0.alpha0)\n",
            "\u001b[?25l  Downloading https://files.pythonhosted.org/packages/a9/51/aa1d756644bf4624c03844115e4ac4058eff77acd786b26315f051a4b195/tb_nightly-1.14.0a20190301-py3-none-any.whl (3.0MB)\n",
            "\u001b[K     |████████████████████████████████| 3.0MB 32.0MB/s \n",
            "\u001b[?25hRequirement already satisfied: six>=1.10.0 in /usr/local/lib/python3.6/dist-packages (from tensorflow-gpu==2.0.0.alpha0) (1.12.0)\n",
            "Requirement already satisfied: keras-preprocessing>=1.0.5 in /usr/local/lib/python3.6/dist-packages (from tensorflow-gpu==2.0.0.alpha0) (1.1.0)\n",
            "Requirement already satisfied: gast>=0.2.0 in /usr/local/lib/python3.6/dist-packages (from tensorflow-gpu==2.0.0.alpha0) (0.2.2)\n",
            "Requirement already satisfied: protobuf>=3.6.1 in /usr/local/lib/python3.6/dist-packages (from tensorflow-gpu==2.0.0.alpha0) (3.7.1)\n",
            "Requirement already satisfied: numpy<2.0,>=1.14.5 in /usr/local/lib/python3.6/dist-packages (from tensorflow-gpu==2.0.0.alpha0) (1.16.5)\n",
            "Requirement already satisfied: absl-py>=0.7.0 in /usr/local/lib/python3.6/dist-packages (from tensorflow-gpu==2.0.0.alpha0) (0.8.0)\n",
            "Requirement already satisfied: keras-applications>=1.0.6 in /usr/local/lib/python3.6/dist-packages (from tensorflow-gpu==2.0.0.alpha0) (1.0.8)\n",
            "Collecting tf-estimator-nightly<1.14.0.dev2019030116,>=1.14.0.dev2019030115 (from tensorflow-gpu==2.0.0.alpha0)\n",
            "\u001b[?25l  Downloading https://files.pythonhosted.org/packages/13/82/f16063b4eed210dc2ab057930ac1da4fbe1e91b7b051a6c8370b401e6ae7/tf_estimator_nightly-1.14.0.dev2019030115-py2.py3-none-any.whl (411kB)\n",
            "\u001b[K     |████████████████████████████████| 419kB 55.2MB/s \n",
            "\u001b[?25hRequirement already satisfied: grpcio>=1.8.6 in /usr/local/lib/python3.6/dist-packages (from tensorflow-gpu==2.0.0.alpha0) (1.15.0)\n",
            "Requirement already satisfied: wheel>=0.26 in /usr/local/lib/python3.6/dist-packages (from tensorflow-gpu==2.0.0.alpha0) (0.33.6)\n",
            "Requirement already satisfied: termcolor>=1.1.0 in /usr/local/lib/python3.6/dist-packages (from tensorflow-gpu==2.0.0.alpha0) (1.1.0)\n",
            "Requirement already satisfied: markdown>=2.6.8 in /usr/local/lib/python3.6/dist-packages (from tb-nightly<1.14.0a20190302,>=1.14.0a20190301->tensorflow-gpu==2.0.0.alpha0) (3.1.1)\n",
            "Requirement already satisfied: werkzeug>=0.11.15 in /usr/local/lib/python3.6/dist-packages (from tb-nightly<1.14.0a20190302,>=1.14.0a20190301->tensorflow-gpu==2.0.0.alpha0) (0.15.6)\n",
            "Requirement already satisfied: setuptools in /usr/local/lib/python3.6/dist-packages (from protobuf>=3.6.1->tensorflow-gpu==2.0.0.alpha0) (41.2.0)\n",
            "Requirement already satisfied: h5py in /usr/local/lib/python3.6/dist-packages (from keras-applications>=1.0.6->tensorflow-gpu==2.0.0.alpha0) (2.8.0)\n",
            "Installing collected packages: tb-nightly, tf-estimator-nightly, tensorflow-gpu\n",
            "Successfully installed tb-nightly-1.14.0a20190301 tensorflow-gpu-2.0.0a0 tf-estimator-nightly-1.14.0.dev2019030115\n"
          ],
          "name": "stdout"
        },
        {
          "output_type": "display_data",
          "data": {
            "application/vnd.colab-display-data+json": {
              "pip_warning": {
                "packages": [
                  "tensorboard",
                  "tensorflow",
                  "tensorflow_estimator"
                ]
              }
            }
          },
          "metadata": {
            "tags": []
          }
        }
      ]
    },
    {
      "cell_type": "code",
      "metadata": {
        "id": "o-4JY3cDFwmf",
        "colab_type": "code",
        "colab": {}
      },
      "source": [
        "import tensorflow as tf\n",
        "import seaborn as sns\n",
        "import pandas as pd\n",
        "import numpy as np\n",
        "import matplotlib.pyplot as plt\n"
      ],
      "execution_count": 0,
      "outputs": []
    },
    {
      "cell_type": "code",
      "metadata": {
        "id": "4WM4dvBUWovV",
        "colab_type": "code",
        "colab": {
          "base_uri": "https://localhost:8080/",
          "height": 54
        },
        "outputId": "ecb0c290-927e-4d88-81b1-a981574c1f98"
      },
      "source": [
        "from google.colab import drive\n",
        "drive.mount('/content/drive')"
      ],
      "execution_count": 2,
      "outputs": [
        {
          "output_type": "stream",
          "text": [
            "Drive already mounted at /content/drive; to attempt to forcibly remount, call drive.mount(\"/content/drive\", force_remount=True).\n"
          ],
          "name": "stdout"
        }
      ]
    },
    {
      "cell_type": "code",
      "metadata": {
        "id": "mPNh88hBYp6q",
        "colab_type": "code",
        "colab": {}
      },
      "source": [
        "Temperature_df = pd.read_csv('/content/drive/My Drive/Celsius-to-Fahrenheit.csv')"
      ],
      "execution_count": 0,
      "outputs": []
    },
    {
      "cell_type": "code",
      "metadata": {
        "id": "KGDW_KpFYp3d",
        "colab_type": "code",
        "colab": {
          "base_uri": "https://localhost:8080/",
          "height": 204
        },
        "outputId": "8cbcf54a-f48e-4b42-9c99-40fcc084b099"
      },
      "source": [
        "Temperature_df.head(5)"
      ],
      "execution_count": 4,
      "outputs": [
        {
          "output_type": "execute_result",
          "data": {
            "text/html": [
              "<div>\n",
              "<style scoped>\n",
              "    .dataframe tbody tr th:only-of-type {\n",
              "        vertical-align: middle;\n",
              "    }\n",
              "\n",
              "    .dataframe tbody tr th {\n",
              "        vertical-align: top;\n",
              "    }\n",
              "\n",
              "    .dataframe thead th {\n",
              "        text-align: right;\n",
              "    }\n",
              "</style>\n",
              "<table border=\"1\" class=\"dataframe\">\n",
              "  <thead>\n",
              "    <tr style=\"text-align: right;\">\n",
              "      <th></th>\n",
              "      <th>Celsius</th>\n",
              "      <th>Fahrenheit</th>\n",
              "    </tr>\n",
              "  </thead>\n",
              "  <tbody>\n",
              "    <tr>\n",
              "      <th>0</th>\n",
              "      <td>-50</td>\n",
              "      <td>-58.0</td>\n",
              "    </tr>\n",
              "    <tr>\n",
              "      <th>1</th>\n",
              "      <td>-40</td>\n",
              "      <td>-40.0</td>\n",
              "    </tr>\n",
              "    <tr>\n",
              "      <th>2</th>\n",
              "      <td>-30</td>\n",
              "      <td>-22.0</td>\n",
              "    </tr>\n",
              "    <tr>\n",
              "      <th>3</th>\n",
              "      <td>-20</td>\n",
              "      <td>-4.0</td>\n",
              "    </tr>\n",
              "    <tr>\n",
              "      <th>4</th>\n",
              "      <td>-10</td>\n",
              "      <td>14.0</td>\n",
              "    </tr>\n",
              "  </tbody>\n",
              "</table>\n",
              "</div>"
            ],
            "text/plain": [
              "   Celsius  Fahrenheit\n",
              "0      -50       -58.0\n",
              "1      -40       -40.0\n",
              "2      -30       -22.0\n",
              "3      -20        -4.0\n",
              "4      -10        14.0"
            ]
          },
          "metadata": {
            "tags": []
          },
          "execution_count": 4
        }
      ]
    },
    {
      "cell_type": "code",
      "metadata": {
        "id": "m7Hw0qx8bPxx",
        "colab_type": "code",
        "colab": {
          "base_uri": "https://localhost:8080/",
          "height": 359
        },
        "outputId": "9c4d31ee-0a59-4313-891b-792474cfadf8"
      },
      "source": [
        "Temperature_df.tail(10)"
      ],
      "execution_count": 5,
      "outputs": [
        {
          "output_type": "execute_result",
          "data": {
            "text/html": [
              "<div>\n",
              "<style scoped>\n",
              "    .dataframe tbody tr th:only-of-type {\n",
              "        vertical-align: middle;\n",
              "    }\n",
              "\n",
              "    .dataframe tbody tr th {\n",
              "        vertical-align: top;\n",
              "    }\n",
              "\n",
              "    .dataframe thead th {\n",
              "        text-align: right;\n",
              "    }\n",
              "</style>\n",
              "<table border=\"1\" class=\"dataframe\">\n",
              "  <thead>\n",
              "    <tr style=\"text-align: right;\">\n",
              "      <th></th>\n",
              "      <th>Celsius</th>\n",
              "      <th>Fahrenheit</th>\n",
              "    </tr>\n",
              "  </thead>\n",
              "  <tbody>\n",
              "    <tr>\n",
              "      <th>20</th>\n",
              "      <td>6</td>\n",
              "      <td>42.8</td>\n",
              "    </tr>\n",
              "    <tr>\n",
              "      <th>21</th>\n",
              "      <td>7</td>\n",
              "      <td>44.6</td>\n",
              "    </tr>\n",
              "    <tr>\n",
              "      <th>22</th>\n",
              "      <td>8</td>\n",
              "      <td>46.4</td>\n",
              "    </tr>\n",
              "    <tr>\n",
              "      <th>23</th>\n",
              "      <td>9</td>\n",
              "      <td>48.2</td>\n",
              "    </tr>\n",
              "    <tr>\n",
              "      <th>24</th>\n",
              "      <td>10</td>\n",
              "      <td>50.0</td>\n",
              "    </tr>\n",
              "    <tr>\n",
              "      <th>25</th>\n",
              "      <td>20</td>\n",
              "      <td>68.0</td>\n",
              "    </tr>\n",
              "    <tr>\n",
              "      <th>26</th>\n",
              "      <td>30</td>\n",
              "      <td>86.0</td>\n",
              "    </tr>\n",
              "    <tr>\n",
              "      <th>27</th>\n",
              "      <td>40</td>\n",
              "      <td>104.0</td>\n",
              "    </tr>\n",
              "    <tr>\n",
              "      <th>28</th>\n",
              "      <td>50</td>\n",
              "      <td>122.0</td>\n",
              "    </tr>\n",
              "    <tr>\n",
              "      <th>29</th>\n",
              "      <td>60</td>\n",
              "      <td>140.0</td>\n",
              "    </tr>\n",
              "  </tbody>\n",
              "</table>\n",
              "</div>"
            ],
            "text/plain": [
              "    Celsius  Fahrenheit\n",
              "20        6        42.8\n",
              "21        7        44.6\n",
              "22        8        46.4\n",
              "23        9        48.2\n",
              "24       10        50.0\n",
              "25       20        68.0\n",
              "26       30        86.0\n",
              "27       40       104.0\n",
              "28       50       122.0\n",
              "29       60       140.0"
            ]
          },
          "metadata": {
            "tags": []
          },
          "execution_count": 5
        }
      ]
    },
    {
      "cell_type": "code",
      "metadata": {
        "id": "cq3fZIJuf8kI",
        "colab_type": "code",
        "colab": {
          "base_uri": "https://localhost:8080/",
          "height": 297
        },
        "outputId": "ee5bbcfe-a8ed-4823-e2e2-27d26127af36"
      },
      "source": [
        "Temperature_df.describe()"
      ],
      "execution_count": 6,
      "outputs": [
        {
          "output_type": "execute_result",
          "data": {
            "text/html": [
              "<div>\n",
              "<style scoped>\n",
              "    .dataframe tbody tr th:only-of-type {\n",
              "        vertical-align: middle;\n",
              "    }\n",
              "\n",
              "    .dataframe tbody tr th {\n",
              "        vertical-align: top;\n",
              "    }\n",
              "\n",
              "    .dataframe thead th {\n",
              "        text-align: right;\n",
              "    }\n",
              "</style>\n",
              "<table border=\"1\" class=\"dataframe\">\n",
              "  <thead>\n",
              "    <tr style=\"text-align: right;\">\n",
              "      <th></th>\n",
              "      <th>Celsius</th>\n",
              "      <th>Fahrenheit</th>\n",
              "    </tr>\n",
              "  </thead>\n",
              "  <tbody>\n",
              "    <tr>\n",
              "      <th>count</th>\n",
              "      <td>30.000000</td>\n",
              "      <td>30.000000</td>\n",
              "    </tr>\n",
              "    <tr>\n",
              "      <th>mean</th>\n",
              "      <td>2.000000</td>\n",
              "      <td>35.600000</td>\n",
              "    </tr>\n",
              "    <tr>\n",
              "      <th>std</th>\n",
              "      <td>22.780815</td>\n",
              "      <td>41.005466</td>\n",
              "    </tr>\n",
              "    <tr>\n",
              "      <th>min</th>\n",
              "      <td>-50.000000</td>\n",
              "      <td>-58.000000</td>\n",
              "    </tr>\n",
              "    <tr>\n",
              "      <th>25%</th>\n",
              "      <td>-6.750000</td>\n",
              "      <td>19.850000</td>\n",
              "    </tr>\n",
              "    <tr>\n",
              "      <th>50%</th>\n",
              "      <td>0.500000</td>\n",
              "      <td>32.900000</td>\n",
              "    </tr>\n",
              "    <tr>\n",
              "      <th>75%</th>\n",
              "      <td>7.750000</td>\n",
              "      <td>45.950000</td>\n",
              "    </tr>\n",
              "    <tr>\n",
              "      <th>max</th>\n",
              "      <td>60.000000</td>\n",
              "      <td>140.000000</td>\n",
              "    </tr>\n",
              "  </tbody>\n",
              "</table>\n",
              "</div>"
            ],
            "text/plain": [
              "         Celsius  Fahrenheit\n",
              "count  30.000000   30.000000\n",
              "mean    2.000000   35.600000\n",
              "std    22.780815   41.005466\n",
              "min   -50.000000  -58.000000\n",
              "25%    -6.750000   19.850000\n",
              "50%     0.500000   32.900000\n",
              "75%     7.750000   45.950000\n",
              "max    60.000000  140.000000"
            ]
          },
          "metadata": {
            "tags": []
          },
          "execution_count": 6
        }
      ]
    },
    {
      "cell_type": "code",
      "metadata": {
        "id": "mEDyRV-2gMGu",
        "colab_type": "code",
        "colab": {
          "base_uri": "https://localhost:8080/",
          "height": 136
        },
        "outputId": "54cf9f7e-d3a1-4c73-c4e7-c075070ba2ab"
      },
      "source": [
        "Temperature_df.info()"
      ],
      "execution_count": 7,
      "outputs": [
        {
          "output_type": "stream",
          "text": [
            "<class 'pandas.core.frame.DataFrame'>\n",
            "RangeIndex: 30 entries, 0 to 29\n",
            "Data columns (total 2 columns):\n",
            "Celsius       30 non-null int64\n",
            "Fahrenheit    30 non-null float64\n",
            "dtypes: float64(1), int64(1)\n",
            "memory usage: 560.0 bytes\n"
          ],
          "name": "stdout"
        }
      ]
    },
    {
      "cell_type": "code",
      "metadata": {
        "id": "jsLeiughitI7",
        "colab_type": "code",
        "colab": {
          "base_uri": "https://localhost:8080/",
          "height": 300
        },
        "outputId": "040ddcd0-ab7a-42b1-8d47-165f19d85890"
      },
      "source": [
        "sns.scatterplot(Temperature_df['Celsius'], Temperature_df['Fahrenheit'])"
      ],
      "execution_count": 20,
      "outputs": [
        {
          "output_type": "execute_result",
          "data": {
            "text/plain": [
              "<matplotlib.axes._subplots.AxesSubplot at 0x7fb80634a978>"
            ]
          },
          "metadata": {
            "tags": []
          },
          "execution_count": 20
        },
        {
          "output_type": "display_data",
          "data": {
            "image/png": "[encoded data removed]",
            "text/plain": [
              "<Figure size 432x288 with 1 Axes>"
            ]
          },
          "metadata": {
            "tags": []
          }
        }
      ]
    },
    {
      "cell_type": "code",
      "metadata": {
        "id": "mOqK-envlbAL",
        "colab_type": "code",
        "colab": {}
      },
      "source": [
        "X_train = Temperature_df['Celsius']\n",
        "y_train = Temperature_df['Fahrenheit']"
      ],
      "execution_count": 0,
      "outputs": []
    },
    {
      "cell_type": "code",
      "metadata": {
        "id": "xPte8-KxloEN",
        "colab_type": "code",
        "colab": {
          "base_uri": "https://localhost:8080/",
          "height": 34
        },
        "outputId": "bdfad88c-e125-4731-b6b2-45ab5451bb3c"
      },
      "source": [
        "X_train.shape\n",
        "y_train.shape"
      ],
      "execution_count": 22,
      "outputs": [
        {
          "output_type": "execute_result",
          "data": {
            "text/plain": [
              "(30,)"
            ]
          },
          "metadata": {
            "tags": []
          },
          "execution_count": 22
        }
      ]
    },
    {
      "cell_type": "code",
      "metadata": {
        "id": "RrikIldnl0Yt",
        "colab_type": "code",
        "colab": {}
      },
      "source": [
        "model = tf.keras.Sequential()\n",
        "model.add(tf.keras.layers.Dense(units=1, input_shape=[1]))"
      ],
      "execution_count": 0,
      "outputs": []
    },
    {
      "cell_type": "code",
      "metadata": {
        "id": "aSjMt2TQnV6M",
        "colab_type": "code",
        "colab": {
          "base_uri": "https://localhost:8080/",
          "height": 187
        },
        "outputId": "4d88dd1c-da32-4ca9-d7ab-3152d1d18e21"
      },
      "source": [
        "model.summary()"
      ],
      "execution_count": 31,
      "outputs": [
        {
          "output_type": "stream",
          "text": [
            "Model: \"sequential_3\"\n",
            "_________________________________________________________________\n",
            "Layer (type)                 Output Shape              Param #   \n",
            "=================================================================\n",
            "dense_3 (Dense)              (None, 1)                 2         \n",
            "=================================================================\n",
            "Total params: 2\n",
            "Trainable params: 2\n",
            "Non-trainable params: 0\n",
            "_________________________________________________________________\n"
          ],
          "name": "stdout"
        }
      ]
    },
    {
      "cell_type": "code",
      "metadata": {
        "id": "WZbapeQXpnoW",
        "colab_type": "code",
        "colab": {}
      },
      "source": [
        "model.compile(optimizer=tf.keras.optimizers.Adam(0.5), loss='mean_squared_error')"
      ],
      "execution_count": 0,
      "outputs": []
    },
    {
      "cell_type": "code",
      "metadata": {
        "id": "blMnmdrzp_nE",
        "colab_type": "code",
        "colab": {
          "base_uri": "https://localhost:8080/",
          "height": 1000
        },
        "outputId": "3f10f060-dc3e-4b9c-cc01-c9fab15cd505"
      },
      "source": [
        "epochs_hist = model.fit(X_train, y_train, epochs = 100)"
      ],
      "execution_count": 33,
      "outputs": [
        {
          "output_type": "stream",
          "text": [
            "Epoch 1/100\n",
            "30/30 [==============================] - 0s 2ms/sample - loss: 1042.6073\n",
            "Epoch 2/100\n",
            "30/30 [==============================] - 0s 119us/sample - loss: 1021.8561\n",
            "Epoch 3/100\n",
            "30/30 [==============================] - 0s 63us/sample - loss: 974.8806\n",
            "Epoch 4/100\n",
            "30/30 [==============================] - 0s 82us/sample - loss: 923.0126\n",
            "Epoch 5/100\n",
            "30/30 [==============================] - 0s 53us/sample - loss: 906.9775\n",
            "Epoch 6/100\n",
            "30/30 [==============================] - 0s 73us/sample - loss: 882.8899\n",
            "Epoch 7/100\n",
            "30/30 [==============================] - 0s 78us/sample - loss: 841.1557\n",
            "Epoch 8/100\n",
            "30/30 [==============================] - 0s 67us/sample - loss: 806.5315\n",
            "Epoch 9/100\n",
            "30/30 [==============================] - 0s 71us/sample - loss: 785.9788\n",
            "Epoch 10/100\n",
            "30/30 [==============================] - 0s 61us/sample - loss: 763.3857\n",
            "Epoch 11/100\n",
            "30/30 [==============================] - 0s 141us/sample - loss: 731.2017\n",
            "Epoch 12/100\n",
            "30/30 [==============================] - 0s 68us/sample - loss: 699.0977\n",
            "Epoch 13/100\n",
            "30/30 [==============================] - 0s 60us/sample - loss: 675.1842\n",
            "Epoch 14/100\n",
            "30/30 [==============================] - 0s 62us/sample - loss: 654.8954\n",
            "Epoch 15/100\n",
            "30/30 [==============================] - 0s 64us/sample - loss: 630.1566\n",
            "Epoch 16/100\n",
            "30/30 [==============================] - 0s 61us/sample - loss: 602.0190\n",
            "Epoch 17/100\n",
            "30/30 [==============================] - 0s 112us/sample - loss: 577.0278\n",
            "Epoch 18/100\n",
            "30/30 [==============================] - 0s 75us/sample - loss: 556.8893\n",
            "Epoch 19/100\n",
            "30/30 [==============================] - 0s 74us/sample - loss: 536.8399\n",
            "Epoch 20/100\n",
            "30/30 [==============================] - 0s 64us/sample - loss: 513.7399\n",
            "Epoch 21/100\n",
            "30/30 [==============================] - 0s 63us/sample - loss: 490.3348\n",
            "Epoch 22/100\n",
            "30/30 [==============================] - 0s 62us/sample - loss: 470.1791\n",
            "Epoch 23/100\n",
            "30/30 [==============================] - 0s 121us/sample - loss: 452.3345\n",
            "Epoch 24/100\n",
            "30/30 [==============================] - 0s 69us/sample - loss: 433.4550\n",
            "Epoch 25/100\n",
            "30/30 [==============================] - 0s 60us/sample - loss: 413.1964\n",
            "Epoch 26/100\n",
            "30/30 [==============================] - 0s 62us/sample - loss: 394.2039\n",
            "Epoch 27/100\n",
            "30/30 [==============================] - 0s 65us/sample - loss: 377.6382\n",
            "Epoch 28/100\n",
            "30/30 [==============================] - 0s 61us/sample - loss: 361.6271\n",
            "Epoch 29/100\n",
            "30/30 [==============================] - 0s 57us/sample - loss: 344.6147\n",
            "Epoch 30/100\n",
            "30/30 [==============================] - 0s 56us/sample - loss: 327.7157\n",
            "Epoch 31/100\n",
            "30/30 [==============================] - 0s 55us/sample - loss: 312.5327\n",
            "Epoch 32/100\n",
            "30/30 [==============================] - 0s 57us/sample - loss: 298.5473\n",
            "Epoch 33/100\n",
            "30/30 [==============================] - 0s 61us/sample - loss: 284.2570\n",
            "Epoch 34/100\n",
            "30/30 [==============================] - 0s 54us/sample - loss: 269.7379\n",
            "Epoch 35/100\n",
            "30/30 [==============================] - 0s 52us/sample - loss: 256.2545\n",
            "Epoch 36/100\n",
            "30/30 [==============================] - 0s 50us/sample - loss: 243.9933\n",
            "Epoch 37/100\n",
            "30/30 [==============================] - 0s 54us/sample - loss: 231.9039\n",
            "Epoch 38/100\n",
            "30/30 [==============================] - 0s 53us/sample - loss: 219.6287\n",
            "Epoch 39/100\n",
            "30/30 [==============================] - 0s 64us/sample - loss: 207.9779\n",
            "Epoch 40/100\n",
            "30/30 [==============================] - 0s 56us/sample - loss: 197.3554\n",
            "Epoch 41/100\n",
            "30/30 [==============================] - 0s 57us/sample - loss: 187.1133\n",
            "Epoch 42/100\n",
            "30/30 [==============================] - 0s 53us/sample - loss: 176.8185\n",
            "Epoch 43/100\n",
            "30/30 [==============================] - 0s 60us/sample - loss: 166.9548\n",
            "Epoch 44/100\n",
            "30/30 [==============================] - 0s 54us/sample - loss: 157.9092\n",
            "Epoch 45/100\n",
            "30/30 [==============================] - 0s 52us/sample - loss: 149.2817\n",
            "Epoch 46/100\n",
            "30/30 [==============================] - 0s 53us/sample - loss: 140.7054\n",
            "Epoch 47/100\n",
            "30/30 [==============================] - 0s 57us/sample - loss: 132.4824\n",
            "Epoch 48/100\n",
            "30/30 [==============================] - 0s 66us/sample - loss: 124.9084\n",
            "Epoch 49/100\n",
            "30/30 [==============================] - 0s 62us/sample - loss: 117.7118\n",
            "Epoch 50/100\n",
            "30/30 [==============================] - 0s 68us/sample - loss: 110.6261\n",
            "Epoch 51/100\n",
            "30/30 [==============================] - 0s 70us/sample - loss: 103.8640\n",
            "Epoch 52/100\n",
            "30/30 [==============================] - 0s 60us/sample - loss: 97.6210\n",
            "Epoch 53/100\n",
            "30/30 [==============================] - 0s 58us/sample - loss: 91.6879\n",
            "Epoch 54/100\n",
            "30/30 [==============================] - 0s 53us/sample - loss: 85.8941\n",
            "Epoch 55/100\n",
            "30/30 [==============================] - 0s 62us/sample - loss: 80.4074\n",
            "Epoch 56/100\n",
            "30/30 [==============================] - 0s 57us/sample - loss: 75.3346\n",
            "Epoch 57/100\n",
            "30/30 [==============================] - 0s 66us/sample - loss: 70.5029\n",
            "Epoch 58/100\n",
            "30/30 [==============================] - 0s 59us/sample - loss: 65.8241\n",
            "Epoch 59/100\n",
            "30/30 [==============================] - 0s 49us/sample - loss: 61.4342\n",
            "Epoch 60/100\n",
            "30/30 [==============================] - 0s 50us/sample - loss: 57.3665\n",
            "Epoch 61/100\n",
            "30/30 [==============================] - 0s 52us/sample - loss: 53.4820\n",
            "Epoch 62/100\n",
            "30/30 [==============================] - 0s 70us/sample - loss: 49.7581\n",
            "Epoch 63/100\n",
            "30/30 [==============================] - 0s 46us/sample - loss: 46.2955\n",
            "Epoch 64/100\n",
            "30/30 [==============================] - 0s 50us/sample - loss: 43.0736\n",
            "Epoch 65/100\n",
            "30/30 [==============================] - 0s 56us/sample - loss: 39.9939\n",
            "Epoch 66/100\n",
            "30/30 [==============================] - 0s 57us/sample - loss: 37.0781\n",
            "Epoch 67/100\n",
            "30/30 [==============================] - 0s 58us/sample - loss: 34.3847\n",
            "Epoch 68/100\n",
            "30/30 [==============================] - 0s 50us/sample - loss: 31.8627\n",
            "Epoch 69/100\n",
            "30/30 [==============================] - 0s 50us/sample - loss: 29.4601\n",
            "Epoch 70/100\n",
            "30/30 [==============================] - 0s 53us/sample - loss: 27.2167\n",
            "Epoch 71/100\n",
            "30/30 [==============================] - 0s 57us/sample - loss: 25.1477\n",
            "Epoch 72/100\n",
            "30/30 [==============================] - 0s 51us/sample - loss: 23.1989\n",
            "Epoch 73/100\n",
            "30/30 [==============================] - 0s 51us/sample - loss: 21.3596\n",
            "Epoch 74/100\n",
            "30/30 [==============================] - 0s 50us/sample - loss: 19.6627\n",
            "Epoch 75/100\n",
            "30/30 [==============================] - 0s 70us/sample - loss: 18.0911\n",
            "Epoch 76/100\n",
            "30/30 [==============================] - 0s 56us/sample - loss: 16.6091\n",
            "Epoch 77/100\n",
            "30/30 [==============================] - 0s 54us/sample - loss: 15.2300\n",
            "Epoch 78/100\n",
            "30/30 [==============================] - 0s 44us/sample - loss: 13.9650\n",
            "Epoch 79/100\n",
            "30/30 [==============================] - 0s 46us/sample - loss: 12.7856\n",
            "Epoch 80/100\n",
            "30/30 [==============================] - 0s 51us/sample - loss: 11.6814\n",
            "Epoch 81/100\n",
            "30/30 [==============================] - 0s 48us/sample - loss: 10.6683\n",
            "Epoch 82/100\n",
            "30/30 [==============================] - 0s 42us/sample - loss: 9.7363\n",
            "Epoch 83/100\n",
            "30/30 [==============================] - 0s 146us/sample - loss: 8.8656\n",
            "Epoch 84/100\n",
            "30/30 [==============================] - 0s 225us/sample - loss: 8.0625\n",
            "Epoch 85/100\n",
            "30/30 [==============================] - 0s 104us/sample - loss: 7.3301\n",
            "Epoch 86/100\n",
            "30/30 [==============================] - 0s 76us/sample - loss: 6.6521\n",
            "Epoch 87/100\n",
            "30/30 [==============================] - 0s 57us/sample - loss: 6.0241\n",
            "Epoch 88/100\n",
            "30/30 [==============================] - 0s 61us/sample - loss: 5.4529\n",
            "Epoch 89/100\n",
            "30/30 [==============================] - 0s 57us/sample - loss: 4.9301\n",
            "Epoch 90/100\n",
            "30/30 [==============================] - 0s 60us/sample - loss: 4.4462\n",
            "Epoch 91/100\n",
            "30/30 [==============================] - 0s 56us/sample - loss: 4.0054\n",
            "Epoch 92/100\n",
            "30/30 [==============================] - 0s 54us/sample - loss: 3.6059\n",
            "Epoch 93/100\n",
            "30/30 [==============================] - 0s 60us/sample - loss: 3.2383\n",
            "Epoch 94/100\n",
            "30/30 [==============================] - 0s 51us/sample - loss: 2.9025\n",
            "Epoch 95/100\n",
            "30/30 [==============================] - 0s 54us/sample - loss: 2.6002\n",
            "Epoch 96/100\n",
            "30/30 [==============================] - 0s 56us/sample - loss: 2.3245\n",
            "Epoch 97/100\n",
            "30/30 [==============================] - 0s 57us/sample - loss: 2.0725\n",
            "Epoch 98/100\n",
            "30/30 [==============================] - 0s 52us/sample - loss: 1.8464\n",
            "Epoch 99/100\n",
            "30/30 [==============================] - 0s 63us/sample - loss: 1.6423\n",
            "Epoch 100/100\n",
            "30/30 [==============================] - 0s 55us/sample - loss: 1.4561\n"
          ],
          "name": "stdout"
        }
      ]
    },
    {
      "cell_type": "code",
      "metadata": {
        "id": "VcWGKtii42zm",
        "colab_type": "code",
        "colab": {
          "base_uri": "https://localhost:8080/",
          "height": 34
        },
        "outputId": "9b975d3e-f410-4d5b-e09b-431495269d51"
      },
      "source": [
        "epochs_hist.history.keys()"
      ],
      "execution_count": 35,
      "outputs": [
        {
          "output_type": "execute_result",
          "data": {
            "text/plain": [
              "dict_keys(['loss'])"
            ]
          },
          "metadata": {
            "tags": []
          },
          "execution_count": 35
        }
      ]
    },
    {
      "cell_type": "code",
      "metadata": {
        "id": "FCFH4lwS5EN8",
        "colab_type": "code",
        "colab": {
          "base_uri": "https://localhost:8080/",
          "height": 312
        },
        "outputId": "6ca353e3-b29c-434e-d10a-41ca30e51666"
      },
      "source": [
        "plt.plot(epochs_hist.history['loss'])\n",
        "plt.title('Model Loss Progress During Training')\n",
        "plt.xlabel('Epoch')\n",
        "plt.ylabel('Training Loss')\n",
        "plt.legend(['Training Loss'])"
      ],
      "execution_count": 37,
      "outputs": [
        {
          "output_type": "execute_result",
          "data": {
            "text/plain": [
              "<matplotlib.legend.Legend at 0x7fb7fadbea90>"
            ]
          },
          "metadata": {
            "tags": []
          },
          "execution_count": 37
        },
        {
          "output_type": "display_data",
          "data": {
            "image/png": "[encoded data removed]",
            "text/plain": [
              "<Figure size 432x288 with 1 Axes>"
            ]
          },
          "metadata": {
            "tags": []
          }
        }
      ]
    },
    {
      "cell_type": "code",
      "metadata": {
        "id": "0VamcBA55XCf",
        "colab_type": "code",
        "colab": {
          "base_uri": "https://localhost:8080/",
          "height": 34
        },
        "outputId": "f699039a-7e3b-4e67-c7d2-b47b1101179c"
      },
      "source": [
        "model.get_weights()"
      ],
      "execution_count": 38,
      "outputs": [
        {
          "output_type": "execute_result",
          "data": {
            "text/plain": [
              "[array([[1.8051858]], dtype=float32), array([30.860123], dtype=float32)]"
            ]
          },
          "metadata": {
            "tags": []
          },
          "execution_count": 38
        }
      ]
    },
    {
      "cell_type": "code",
      "metadata": {
        "id": "_IwMow0A5tps",
        "colab_type": "code",
        "colab": {
          "base_uri": "https://localhost:8080/",
          "height": 34
        },
        "outputId": "5d28a240-c933-4ee6-9722-143078f70259"
      },
      "source": [
        "Temp_C = 0\n",
        "Temp_F = model.predict([Temp_C])\n",
        "print('Temperature in degF Using Trained ANN =', Temp_F)"
      ],
      "execution_count": 43,
      "outputs": [
        {
          "output_type": "stream",
          "text": [
            "Temperature in degF Using Trained ANN = [[30.860123]]\n"
          ],
          "name": "stdout"
        }
      ]
    },
    {
      "cell_type": "code",
      "metadata": {
        "id": "6n5hIc566A1Y",
        "colab_type": "code",
        "colab": {
          "base_uri": "https://localhost:8080/",
          "height": 34
        },
        "outputId": "5d81eb09-4ffe-48fa-aec6-dea57b82ff15"
      },
      "source": [
        "Temp_F = 9/5 * Temp_C + 32\n",
        "print('Temperature in degF Using Equation =', Temp_F)"
      ],
      "execution_count": 44,
      "outputs": [
        {
          "output_type": "stream",
          "text": [
            "Temperature in degF Using Equation = 32.0\n"
          ],
          "name": "stdout"
        }
      ]
    }
  ]
}